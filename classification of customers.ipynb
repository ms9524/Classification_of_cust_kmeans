{
 "cells": [
  {
   "cell_type": "code",
   "execution_count": 7,
   "metadata": {},
   "outputs": [
    {
     "name": "stdout",
     "output_type": "stream",
     "text": [
      "Collecting scikit-learn\n",
      "  Obtaining dependency information for scikit-learn from https://files.pythonhosted.org/packages/52/2d/ad6928a578c78bb0e44e34a5a922818b14c56716b81d145924f1f291416f/scikit_learn-1.3.2-cp38-cp38-win_amd64.whl.metadata\n",
      "  Downloading scikit_learn-1.3.2-cp38-cp38-win_amd64.whl.metadata (11 kB)\n",
      "Requirement already satisfied: numpy<2.0,>=1.17.3 in c:\\users\\johns\\appdata\\local\\programs\\python\\python38\\lib\\site-packages (from scikit-learn) (1.24.4)\n",
      "Requirement already satisfied: scipy>=1.5.0 in c:\\users\\johns\\appdata\\local\\programs\\python\\python38\\lib\\site-packages (from scikit-learn) (1.10.1)\n",
      "Collecting joblib>=1.1.1 (from scikit-learn)\n",
      "  Obtaining dependency information for joblib>=1.1.1 from https://files.pythonhosted.org/packages/91/29/df4b9b42f2be0b623cbd5e2140cafcaa2bef0759a00b7b70104dcfe2fb51/joblib-1.4.2-py3-none-any.whl.metadata\n",
      "  Downloading joblib-1.4.2-py3-none-any.whl.metadata (5.4 kB)\n",
      "Collecting threadpoolctl>=2.0.0 (from scikit-learn)\n",
      "  Obtaining dependency information for threadpoolctl>=2.0.0 from https://files.pythonhosted.org/packages/4b/2c/ffbf7a134b9ab11a67b0cf0726453cedd9c5043a4fe7a35d1cefa9a1bcfb/threadpoolctl-3.5.0-py3-none-any.whl.metadata\n",
      "  Downloading threadpoolctl-3.5.0-py3-none-any.whl.metadata (13 kB)\n",
      "Downloading scikit_learn-1.3.2-cp38-cp38-win_amd64.whl (9.3 MB)\n",
      "   ---------------------------------------- 0.0/9.3 MB ? eta -:--:--\n",
      "    --------------------------------------- 0.2/9.3 MB 5.8 MB/s eta 0:00:02\n",
      "   - -------------------------------------- 0.4/9.3 MB 5.1 MB/s eta 0:00:02\n",
      "   --- ------------------------------------ 0.8/9.3 MB 6.7 MB/s eta 0:00:02\n",
      "   ----- ---------------------------------- 1.2/9.3 MB 6.4 MB/s eta 0:00:02\n",
      "   ------- -------------------------------- 1.6/9.3 MB 6.9 MB/s eta 0:00:02\n",
      "   -------- ------------------------------- 2.0/9.3 MB 7.4 MB/s eta 0:00:01\n",
      "   ---------- ----------------------------- 2.4/9.3 MB 7.4 MB/s eta 0:00:01\n",
      "   ------------ --------------------------- 2.8/9.3 MB 7.4 MB/s eta 0:00:01\n",
      "   ------------- -------------------------- 3.1/9.3 MB 7.5 MB/s eta 0:00:01\n",
      "   -------------- ------------------------- 3.5/9.3 MB 7.6 MB/s eta 0:00:01\n",
      "   ---------------- ----------------------- 3.7/9.3 MB 7.4 MB/s eta 0:00:01\n",
      "   ----------------- ---------------------- 3.9/9.3 MB 7.2 MB/s eta 0:00:01\n",
      "   ----------------- ---------------------- 4.1/9.3 MB 6.9 MB/s eta 0:00:01\n",
      "   ------------------ --------------------- 4.3/9.3 MB 6.5 MB/s eta 0:00:01\n",
      "   ------------------- -------------------- 4.4/9.3 MB 6.4 MB/s eta 0:00:01\n",
      "   ------------------- -------------------- 4.6/9.3 MB 6.1 MB/s eta 0:00:01\n",
      "   -------------------- ------------------- 4.8/9.3 MB 6.1 MB/s eta 0:00:01\n",
      "   --------------------- ------------------ 4.9/9.3 MB 6.0 MB/s eta 0:00:01\n",
      "   ---------------------- ----------------- 5.1/9.3 MB 5.8 MB/s eta 0:00:01\n",
      "   ---------------------- ----------------- 5.3/9.3 MB 5.6 MB/s eta 0:00:01\n",
      "   ----------------------- ---------------- 5.4/9.3 MB 5.6 MB/s eta 0:00:01\n",
      "   ------------------------ --------------- 5.6/9.3 MB 5.4 MB/s eta 0:00:01\n",
      "   ------------------------ --------------- 5.7/9.3 MB 5.3 MB/s eta 0:00:01\n",
      "   ------------------------- -------------- 5.9/9.3 MB 5.3 MB/s eta 0:00:01\n",
      "   ------------------------- -------------- 6.0/9.3 MB 5.2 MB/s eta 0:00:01\n",
      "   -------------------------- ------------- 6.1/9.3 MB 5.0 MB/s eta 0:00:01\n",
      "   -------------------------- ------------- 6.2/9.3 MB 4.9 MB/s eta 0:00:01\n",
      "   -------------------------- ------------- 6.2/9.3 MB 4.9 MB/s eta 0:00:01\n",
      "   --------------------------- ------------ 6.4/9.3 MB 4.7 MB/s eta 0:00:01\n",
      "   ---------------------------- ----------- 6.5/9.3 MB 4.7 MB/s eta 0:00:01\n",
      "   ---------------------------- ----------- 6.6/9.3 MB 4.6 MB/s eta 0:00:01\n",
      "   ----------------------------- ---------- 6.7/9.3 MB 4.5 MB/s eta 0:00:01\n",
      "   ----------------------------- ---------- 6.8/9.3 MB 4.4 MB/s eta 0:00:01\n",
      "   ----------------------------- ---------- 6.9/9.3 MB 4.4 MB/s eta 0:00:01\n",
      "   ------------------------------ --------- 7.0/9.3 MB 4.3 MB/s eta 0:00:01\n",
      "   ------------------------------ --------- 7.1/9.3 MB 4.3 MB/s eta 0:00:01\n",
      "   ------------------------------- -------- 7.2/9.3 MB 4.2 MB/s eta 0:00:01\n",
      "   ------------------------------- -------- 7.3/9.3 MB 4.1 MB/s eta 0:00:01\n",
      "   ------------------------------- -------- 7.4/9.3 MB 4.1 MB/s eta 0:00:01\n",
      "   -------------------------------- ------- 7.5/9.3 MB 4.0 MB/s eta 0:00:01\n",
      "   -------------------------------- ------- 7.6/9.3 MB 4.0 MB/s eta 0:00:01\n",
      "   -------------------------------- ------- 7.6/9.3 MB 3.9 MB/s eta 0:00:01\n",
      "   --------------------------------- ------ 7.7/9.3 MB 3.9 MB/s eta 0:00:01\n",
      "   --------------------------------- ------ 7.8/9.3 MB 3.8 MB/s eta 0:00:01\n",
      "   ---------------------------------- ----- 7.9/9.3 MB 3.8 MB/s eta 0:00:01\n",
      "   ---------------------------------- ----- 7.9/9.3 MB 3.7 MB/s eta 0:00:01\n",
      "   ---------------------------------- ----- 7.9/9.3 MB 3.7 MB/s eta 0:00:01\n",
      "   ----------------------------------- ---- 8.3/9.3 MB 3.7 MB/s eta 0:00:01\n",
      "   ------------------------------------ --- 8.4/9.3 MB 3.7 MB/s eta 0:00:01\n",
      "   ------------------------------------ --- 8.5/9.3 MB 3.6 MB/s eta 0:00:01\n",
      "   ------------------------------------- -- 8.6/9.3 MB 3.6 MB/s eta 0:00:01\n",
      "   ------------------------------------- -- 8.7/9.3 MB 3.6 MB/s eta 0:00:01\n",
      "   ------------------------------------- -- 8.8/9.3 MB 3.5 MB/s eta 0:00:01\n",
      "   -------------------------------------- - 8.9/9.3 MB 3.5 MB/s eta 0:00:01\n",
      "   ---------------------------------------  9.1/9.3 MB 3.5 MB/s eta 0:00:01\n",
      "   ---------------------------------------  9.2/9.3 MB 3.5 MB/s eta 0:00:01\n",
      "   ---------------------------------------  9.3/9.3 MB 3.5 MB/s eta 0:00:01\n",
      "   ---------------------------------------  9.3/9.3 MB 3.5 MB/s eta 0:00:01\n",
      "   ---------------------------------------  9.3/9.3 MB 3.5 MB/s eta 0:00:01\n",
      "   ---------------------------------------  9.3/9.3 MB 3.5 MB/s eta 0:00:01\n",
      "   ---------------------------------------  9.3/9.3 MB 3.5 MB/s eta 0:00:01\n",
      "   ---------------------------------------  9.3/9.3 MB 3.5 MB/s eta 0:00:01\n",
      "   ---------------------------------------- 9.3/9.3 MB 3.1 MB/s eta 0:00:00\n",
      "Downloading joblib-1.4.2-py3-none-any.whl (301 kB)\n",
      "   ---------------------------------------- 0.0/301.8 kB ? eta -:--:--\n",
      "   ---------------- ----------------------- 122.9/301.8 kB 3.6 MB/s eta 0:00:01\n",
      "   -------------------------------- ------- 245.8/301.8 kB 3.0 MB/s eta 0:00:01\n",
      "   ---------------------------------------- 301.8/301.8 kB 2.1 MB/s eta 0:00:00\n",
      "Downloading threadpoolctl-3.5.0-py3-none-any.whl (18 kB)\n",
      "Installing collected packages: threadpoolctl, joblib, scikit-learn\n",
      "Successfully installed joblib-1.4.2 scikit-learn-1.3.2 threadpoolctl-3.5.0\n",
      "Note: you may need to restart the kernel to use updated packages.\n"
     ]
    },
    {
     "name": "stderr",
     "output_type": "stream",
     "text": [
      "\n",
      "[notice] A new release of pip is available: 23.2.1 -> 24.0\n",
      "[notice] To update, run: python.exe -m pip install --upgrade pip\n"
     ]
    }
   ],
   "source": [
    "pip install scikit-learn\n"
   ]
  },
  {
   "cell_type": "code",
   "execution_count": 2,
   "metadata": {
    "id": "4ioIIGGvOXdM"
   },
   "outputs": [],
   "source": [
    "#importing the dependencies.\n",
    "import numpy as np\n",
    "import pandas as pd\n",
    "import matplotlib.pyplot as plt\n",
    "import seaborn as sns\n",
    "from sklearn.cluster import KMeans\n",
    "from sklearn.impute import SimpleImputer"
   ]
  },
  {
   "cell_type": "code",
   "execution_count": 3,
   "metadata": {
    "id": "16EZPRpGOlfk"
   },
   "outputs": [],
   "source": [
    "customer_data = pd.read_csv(r'C:\\Users\\johns\\Desktop\\Classification of customers using K Means\\Mall_Customers.csv')\n"
   ]
  },
  {
   "cell_type": "code",
   "execution_count": 4,
   "metadata": {},
   "outputs": [
    {
     "name": "stdout",
     "output_type": "stream",
     "text": [
      "c:\\Users\\johns\\Desktop\\Classification of customers using K Means\n"
     ]
    }
   ],
   "source": [
    "import os\n",
    "print(os.getcwd())\n"
   ]
  },
  {
   "cell_type": "code",
   "execution_count": 5,
   "metadata": {
    "colab": {
     "base_uri": "https://localhost:8080/",
     "height": 245
    },
    "id": "HK_-wQ-rPWAt",
    "outputId": "a92669ad-ab8c-4e08-c3c6-77994d26aa50"
   },
   "outputs": [
    {
     "data": {
      "text/html": [
       "<div>\n",
       "<style scoped>\n",
       "    .dataframe tbody tr th:only-of-type {\n",
       "        vertical-align: middle;\n",
       "    }\n",
       "\n",
       "    .dataframe tbody tr th {\n",
       "        vertical-align: top;\n",
       "    }\n",
       "\n",
       "    .dataframe thead th {\n",
       "        text-align: right;\n",
       "    }\n",
       "</style>\n",
       "<table border=\"1\" class=\"dataframe\">\n",
       "  <thead>\n",
       "    <tr style=\"text-align: right;\">\n",
       "      <th></th>\n",
       "      <th>CustomerID</th>\n",
       "      <th>Gender</th>\n",
       "      <th>Age</th>\n",
       "      <th>Annual Income (k rupees)</th>\n",
       "      <th>Spending Score (1-100)</th>\n",
       "    </tr>\n",
       "  </thead>\n",
       "  <tbody>\n",
       "    <tr>\n",
       "      <th>0</th>\n",
       "      <td>1.0</td>\n",
       "      <td>Male</td>\n",
       "      <td>19.0</td>\n",
       "      <td>15.0</td>\n",
       "      <td>39.0</td>\n",
       "    </tr>\n",
       "    <tr>\n",
       "      <th>1</th>\n",
       "      <td>2.0</td>\n",
       "      <td>Male</td>\n",
       "      <td>21.0</td>\n",
       "      <td>15.0</td>\n",
       "      <td>81.0</td>\n",
       "    </tr>\n",
       "    <tr>\n",
       "      <th>2</th>\n",
       "      <td>3.0</td>\n",
       "      <td>Female</td>\n",
       "      <td>20.0</td>\n",
       "      <td>16.0</td>\n",
       "      <td>6.0</td>\n",
       "    </tr>\n",
       "    <tr>\n",
       "      <th>3</th>\n",
       "      <td>4.0</td>\n",
       "      <td>Female</td>\n",
       "      <td>23.0</td>\n",
       "      <td>16.0</td>\n",
       "      <td>77.0</td>\n",
       "    </tr>\n",
       "    <tr>\n",
       "      <th>4</th>\n",
       "      <td>5.0</td>\n",
       "      <td>Female</td>\n",
       "      <td>31.0</td>\n",
       "      <td>17.0</td>\n",
       "      <td>40.0</td>\n",
       "    </tr>\n",
       "  </tbody>\n",
       "</table>\n",
       "</div>"
      ],
      "text/plain": [
       "   CustomerID  Gender   Age  Annual Income (k rupees)  Spending Score (1-100)\n",
       "0         1.0    Male  19.0                      15.0                    39.0\n",
       "1         2.0    Male  21.0                      15.0                    81.0\n",
       "2         3.0  Female  20.0                      16.0                     6.0\n",
       "3         4.0  Female  23.0                      16.0                    77.0\n",
       "4         5.0  Female  31.0                      17.0                    40.0"
      ]
     },
     "execution_count": 5,
     "metadata": {},
     "output_type": "execute_result"
    }
   ],
   "source": [
    "customer_data.head()"
   ]
  },
  {
   "cell_type": "code",
   "execution_count": 6,
   "metadata": {
    "colab": {
     "base_uri": "https://localhost:8080/"
    },
    "id": "MdEERdJKPYEA",
    "outputId": "b3ab14cd-ecc3-4e16-c8b2-8257780e6c15"
   },
   "outputs": [
    {
     "data": {
      "text/plain": [
       "(1200, 5)"
      ]
     },
     "execution_count": 6,
     "metadata": {},
     "output_type": "execute_result"
    }
   ],
   "source": [
    "customer_data.shape"
   ]
  },
  {
   "cell_type": "code",
   "execution_count": 7,
   "metadata": {
    "colab": {
     "base_uri": "https://localhost:8080/"
    },
    "id": "FmJ8-hSQPdMa",
    "outputId": "20f17aa6-bc89-4a68-b5fd-5a506f85dcaf"
   },
   "outputs": [
    {
     "name": "stdout",
     "output_type": "stream",
     "text": [
      "<class 'pandas.core.frame.DataFrame'>\n",
      "RangeIndex: 1200 entries, 0 to 1199\n",
      "Data columns (total 5 columns):\n",
      " #   Column                    Non-Null Count  Dtype  \n",
      "---  ------                    --------------  -----  \n",
      " 0   CustomerID                203 non-null    float64\n",
      " 1   Gender                    1199 non-null   object \n",
      " 2   Age                       1199 non-null   float64\n",
      " 3   Annual Income (k rupees)  1199 non-null   float64\n",
      " 4   Spending Score (1-100)    1199 non-null   float64\n",
      "dtypes: float64(4), object(1)\n",
      "memory usage: 47.0+ KB\n"
     ]
    }
   ],
   "source": [
    "customer_data.info()"
   ]
  },
  {
   "cell_type": "code",
   "execution_count": 8,
   "metadata": {
    "colab": {
     "base_uri": "https://localhost:8080/"
    },
    "id": "695pYLaAPh0N",
    "outputId": "3a15eb47-9ce1-4a8f-8142-ca7824bcdde6"
   },
   "outputs": [
    {
     "data": {
      "text/plain": [
       "CustomerID                  997\n",
       "Gender                        1\n",
       "Age                           1\n",
       "Annual Income (k rupees)      1\n",
       "Spending Score (1-100)        1\n",
       "dtype: int64"
      ]
     },
     "execution_count": 8,
     "metadata": {},
     "output_type": "execute_result"
    }
   ],
   "source": [
    "customer_data.isnull().sum()"
   ]
  },
  {
   "cell_type": "code",
   "execution_count": 9,
   "metadata": {
    "id": "y906DeAcPzLQ"
   },
   "outputs": [],
   "source": [
    "#Choosing the Annual Income Column & Spending Score column\n",
    "X = customer_data.iloc[:,[3,4]].values"
   ]
  },
  {
   "cell_type": "code",
   "execution_count": 10,
   "metadata": {
    "colab": {
     "base_uri": "https://localhost:8080/"
    },
    "id": "IXSQkFDKP51h",
    "outputId": "9b15af1f-22af-441c-e731-ddda687ace0f"
   },
   "outputs": [
    {
     "name": "stdout",
     "output_type": "stream",
     "text": [
      "[[ 15.  39.]\n",
      " [ 15.  81.]\n",
      " [ 16.   6.]\n",
      " ...\n",
      " [126.  74.]\n",
      " [137.  18.]\n",
      " [137.  83.]]\n"
     ]
    }
   ],
   "source": [
    "print(X)"
   ]
  },
  {
   "cell_type": "code",
   "execution_count": 11,
   "metadata": {
    "id": "fHxo0ltVQU56"
   },
   "outputs": [
    {
     "name": "stderr",
     "output_type": "stream",
     "text": [
      "c:\\Users\\johns\\AppData\\Local\\Programs\\Python\\Python38\\lib\\site-packages\\sklearn\\cluster\\_kmeans.py:1416: FutureWarning: The default value of `n_init` will change from 10 to 'auto' in 1.4. Set the value of `n_init` explicitly to suppress the warning\n",
      "  super()._check_params_vs_input(X, default_n_init=10)\n",
      "c:\\Users\\johns\\AppData\\Local\\Programs\\Python\\Python38\\lib\\site-packages\\sklearn\\cluster\\_kmeans.py:1416: FutureWarning: The default value of `n_init` will change from 10 to 'auto' in 1.4. Set the value of `n_init` explicitly to suppress the warning\n",
      "  super()._check_params_vs_input(X, default_n_init=10)\n",
      "c:\\Users\\johns\\AppData\\Local\\Programs\\Python\\Python38\\lib\\site-packages\\sklearn\\cluster\\_kmeans.py:1416: FutureWarning: The default value of `n_init` will change from 10 to 'auto' in 1.4. Set the value of `n_init` explicitly to suppress the warning\n",
      "  super()._check_params_vs_input(X, default_n_init=10)\n",
      "c:\\Users\\johns\\AppData\\Local\\Programs\\Python\\Python38\\lib\\site-packages\\sklearn\\cluster\\_kmeans.py:1416: FutureWarning: The default value of `n_init` will change from 10 to 'auto' in 1.4. Set the value of `n_init` explicitly to suppress the warning\n",
      "  super()._check_params_vs_input(X, default_n_init=10)\n",
      "c:\\Users\\johns\\AppData\\Local\\Programs\\Python\\Python38\\lib\\site-packages\\sklearn\\cluster\\_kmeans.py:1416: FutureWarning: The default value of `n_init` will change from 10 to 'auto' in 1.4. Set the value of `n_init` explicitly to suppress the warning\n",
      "  super()._check_params_vs_input(X, default_n_init=10)\n",
      "c:\\Users\\johns\\AppData\\Local\\Programs\\Python\\Python38\\lib\\site-packages\\sklearn\\cluster\\_kmeans.py:1416: FutureWarning: The default value of `n_init` will change from 10 to 'auto' in 1.4. Set the value of `n_init` explicitly to suppress the warning\n",
      "  super()._check_params_vs_input(X, default_n_init=10)\n",
      "c:\\Users\\johns\\AppData\\Local\\Programs\\Python\\Python38\\lib\\site-packages\\sklearn\\cluster\\_kmeans.py:1416: FutureWarning: The default value of `n_init` will change from 10 to 'auto' in 1.4. Set the value of `n_init` explicitly to suppress the warning\n",
      "  super()._check_params_vs_input(X, default_n_init=10)\n",
      "c:\\Users\\johns\\AppData\\Local\\Programs\\Python\\Python38\\lib\\site-packages\\sklearn\\cluster\\_kmeans.py:1416: FutureWarning: The default value of `n_init` will change from 10 to 'auto' in 1.4. Set the value of `n_init` explicitly to suppress the warning\n",
      "  super()._check_params_vs_input(X, default_n_init=10)\n",
      "c:\\Users\\johns\\AppData\\Local\\Programs\\Python\\Python38\\lib\\site-packages\\sklearn\\cluster\\_kmeans.py:1416: FutureWarning: The default value of `n_init` will change from 10 to 'auto' in 1.4. Set the value of `n_init` explicitly to suppress the warning\n",
      "  super()._check_params_vs_input(X, default_n_init=10)\n",
      "c:\\Users\\johns\\AppData\\Local\\Programs\\Python\\Python38\\lib\\site-packages\\sklearn\\cluster\\_kmeans.py:1416: FutureWarning: The default value of `n_init` will change from 10 to 'auto' in 1.4. Set the value of `n_init` explicitly to suppress the warning\n",
      "  super()._check_params_vs_input(X, default_n_init=10)\n"
     ]
    }
   ],
   "source": [
    "\n",
    "X = X[~np.isnan(X).any(axis=1)]\n",
    "# finding wcss value for different number of clusters using WCSS -> Within Clusters Sum of Squares\n",
    "\n",
    "wcss = []\n",
    "\n",
    "for i in range(1,11):\n",
    "  kmeans = KMeans(n_clusters=i, init='k-means++', random_state=42)\n",
    "  kmeans.fit(X)\n",
    "\n",
    "  wcss.append(kmeans.inertia_)"
   ]
  },
  {
   "cell_type": "code",
   "execution_count": 12,
   "metadata": {
    "colab": {
     "base_uri": "https://localhost:8080/",
     "height": 480
    },
    "id": "c8k8Cg8kVp5H",
    "outputId": "9ccef114-0e6f-479e-fc93-5d7570a8e9a3"
   },
   "outputs": [
    {
     "data": {
      "image/png": "[encoded data removed]",
      "text/plain": [
       "<Figure size 640x480 with 1 Axes>"
      ]
     },
     "metadata": {},
     "output_type": "display_data"
    }
   ],
   "source": [
    "# plot an elbow graph\n",
    "\n",
    "sns.set()\n",
    "plt.plot(range(1,11), wcss)\n",
    "plt.title('The Elbow Point Graph')\n",
    "plt.xlabel('Number of Clusters')\n",
    "plt.ylabel('WCSS')\n",
    "plt.show()"
   ]
  },
  {
   "cell_type": "code",
   "execution_count": 13,
   "metadata": {
    "colab": {
     "base_uri": "https://localhost:8080/"
    },
    "id": "j3Dch7Z0VvBl",
    "outputId": "b3b46181-34f9-4e42-a420-197dca208f2a"
   },
   "outputs": [
    {
     "name": "stdout",
     "output_type": "stream",
     "text": [
      "[4 3 4 ... 0 2 0]\n"
     ]
    },
    {
     "name": "stderr",
     "output_type": "stream",
     "text": [
      "c:\\Users\\johns\\AppData\\Local\\Programs\\Python\\Python38\\lib\\site-packages\\sklearn\\cluster\\_kmeans.py:1416: FutureWarning: The default value of `n_init` will change from 10 to 'auto' in 1.4. Set the value of `n_init` explicitly to suppress the warning\n",
      "  super()._check_params_vs_input(X, default_n_init=10)\n"
     ]
    }
   ],
   "source": [
    "#Training the k-Means Clustering Model\n",
    "kmeans = KMeans(n_clusters=5, init='k-means++', random_state=0)\n",
    "\n",
    "# return a label for each data point based on their cluster\n",
    "Y = kmeans.fit_predict(X)\n",
    "\n",
    "print(Y)"
   ]
  },
  {
   "cell_type": "code",
   "execution_count": 14,
   "metadata": {
    "colab": {
     "base_uri": "https://localhost:8080/",
     "height": 727
    },
    "id": "fsVybVQGV5Vg",
    "outputId": "0bf1957b-ceca-42b2-b308-040d43a2a2de"
   },
   "outputs": [
    {
     "data": {
      "image/png": "[encoded data removed]",
      "text/plain": [
       "<Figure size 800x800 with 1 Axes>"
      ]
     },
     "metadata": {},
     "output_type": "display_data"
    }
   ],
   "source": [
    "# plotting all the clusters and their Centroids\n",
    "\n",
    "plt.figure(figsize=(8,8))\n",
    "plt.scatter(X[Y==0,0], X[Y==0,1], s=50, c='green', label='Cluster 1')\n",
    "plt.scatter(X[Y==1,0], X[Y==1,1], s=50, c='red', label='Cluster 2')\n",
    "plt.scatter(X[Y==2,0], X[Y==2,1], s=50, c='yellow', label='Cluster 3')\n",
    "plt.scatter(X[Y==3,0], X[Y==3,1], s=50, c='violet', label='Cluster 4')\n",
    "plt.scatter(X[Y==4,0], X[Y==4,1], s=50, c='blue', label='Cluster 5')\n",
    "\n",
    "# plot the centroids\n",
    "plt.scatter(kmeans.cluster_centers_[:,0], kmeans.cluster_centers_[:,1], s=100, c='cyan', label='Centroids')\n",
    "\n",
    "plt.title('Customer Groups')\n",
    "plt.xlabel('Annual Income')\n",
    "plt.ylabel('Spending Score')\n",
    "plt.show()"
   ]
  }
 ],
 "metadata": {
  "colab": {
   "provenance": []
  },
  "kernelspec": {
   "display_name": "Python 3 (ipykernel)",
   "language": "python",
   "name": "python3"
  },
  "language_info": {
   "codemirror_mode": {
    "name": "ipython",
    "version": 3
   },
   "file_extension": ".py",
   "mimetype": "text/x-python",
   "name": "python",
   "nbconvert_exporter": "python",
   "pygments_lexer": "ipython3",
   "version": "3.8.10"
  }
 },
 "nbformat": 4,
 "nbformat_minor": 1
}
